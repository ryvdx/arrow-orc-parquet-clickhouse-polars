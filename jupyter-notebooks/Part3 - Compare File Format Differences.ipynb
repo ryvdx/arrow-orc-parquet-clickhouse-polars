{
 "cells": [
  {
   "cell_type": "markdown",
   "id": "18a604fa-61f6-409c-8a7e-df6a1bc6f9ae",
   "metadata": {},
   "source": [
    "# Comparing File formats\n",
    "We're using Polars here instead of Pandas, don't worry why, we'll cover that in the next Notebooks."
   ]
  },
  {
   "cell_type": "code",
   "execution_count": 3,
   "id": "aded4bea-da9c-446c-b36c-65914e61fb06",
   "metadata": {},
   "outputs": [],
   "source": [
    "import sys\n",
    "import pyarrow as pa\n",
    "import pyarrow.parquet as pq\n",
    "import polars as pl\n",
    "from pyarrow import orc"
   ]
  },
  {
   "cell_type": "markdown",
   "id": "f780a668-3aef-404e-9236-4c7923688acf",
   "metadata": {},
   "source": [
    "### Parquet File Format"
   ]
  },
  {
   "cell_type": "code",
   "execution_count": 4,
   "id": "2c8d6857-6f6c-491e-9655-8a59159b2692",
   "metadata": {},
   "outputs": [
    {
     "name": "stdout",
     "output_type": "stream",
     "text": [
      "CPU times: user 1.01 s, sys: 2.52 s, total: 3.53 s\n",
      "Wall time: 1.03 s\n"
     ]
    },
    {
     "data": {
      "text/html": [
       "<div><style>\n",
       ".dataframe > thead > tr > th,\n",
       ".dataframe > tbody > tr > td {\n",
       "  text-align: right;\n",
       "}\n",
       "</style>\n",
       "<small>shape: (5, 9)</small><table border=\"1\" class=\"dataframe\"><thead><tr><th>ticker</th><th>per</th><th>recordtime</th><th>open</th><th>high</th><th>low</th><th>close</th><th>vol</th><th>openint</th></tr><tr><td>binary</td><td>binary</td><td>i64</td><td>f64</td><td>f64</td><td>f64</td><td>f64</td><td>f64</td><td>i64</td></tr></thead><tbody><tr><td>[binary data]</td><td>[binary data]</td><td>1201478400</td><td>0.738</td><td>0.738</td><td>0.738</td><td>0.738</td><td>0.0</td><td>0</td></tr><tr><td>[binary data]</td><td>[binary data]</td><td>1201564800</td><td>0.738</td><td>0.776</td><td>0.6657</td><td>0.6797</td><td>1.9169939e7</td><td>0</td></tr><tr><td>[binary data]</td><td>[binary data]</td><td>1201651200</td><td>0.6797</td><td>0.7108</td><td>0.6448</td><td>0.6603</td><td>2.818723e6</td><td>0</td></tr><tr><td>[binary data]</td><td>[binary data]</td><td>1201737600</td><td>0.6595</td><td>0.8001</td><td>0.6595</td><td>0.7418</td><td>2.345961e6</td><td>0</td></tr><tr><td>[binary data]</td><td>[binary data]</td><td>1201824000</td><td>0.7714</td><td>0.7721</td><td>0.738</td><td>0.7387</td><td>361853.0</td><td>0</td></tr></tbody></table></div>"
      ],
      "text/plain": [
       "shape: (5, 9)\n",
       "┌─────────┬───────────────┬────────────┬────────┬───┬────────┬────────┬─────────────┬─────────┐\n",
       "│ ticker  ┆ per           ┆ recordtime ┆ open   ┆ … ┆ low    ┆ close  ┆ vol         ┆ openint │\n",
       "│ ---     ┆ ---           ┆ ---        ┆ ---    ┆   ┆ ---    ┆ ---    ┆ ---         ┆ ---     │\n",
       "│ binary  ┆ binary        ┆ i64        ┆ f64    ┆   ┆ f64    ┆ f64    ┆ f64         ┆ i64     │\n",
       "╞═════════╪═══════════════╪════════════╪════════╪═══╪════════╪════════╪═════════════╪═════════╡\n",
       "│ [binary ┆ [binary data] ┆ 1201478400 ┆ 0.738  ┆ … ┆ 0.738  ┆ 0.738  ┆ 0.0         ┆ 0       │\n",
       "│ data]   ┆               ┆            ┆        ┆   ┆        ┆        ┆             ┆         │\n",
       "│ [binary ┆ [binary data] ┆ 1201564800 ┆ 0.738  ┆ … ┆ 0.6657 ┆ 0.6797 ┆ 1.9169939e7 ┆ 0       │\n",
       "│ data]   ┆               ┆            ┆        ┆   ┆        ┆        ┆             ┆         │\n",
       "│ [binary ┆ [binary data] ┆ 1201651200 ┆ 0.6797 ┆ … ┆ 0.6448 ┆ 0.6603 ┆ 2.818723e6  ┆ 0       │\n",
       "│ data]   ┆               ┆            ┆        ┆   ┆        ┆        ┆             ┆         │\n",
       "│ [binary ┆ [binary data] ┆ 1201737600 ┆ 0.6595 ┆ … ┆ 0.6595 ┆ 0.7418 ┆ 2.345961e6  ┆ 0       │\n",
       "│ data]   ┆               ┆            ┆        ┆   ┆        ┆        ┆             ┆         │\n",
       "│ [binary ┆ [binary data] ┆ 1201824000 ┆ 0.7714 ┆ … ┆ 0.738  ┆ 0.7387 ┆ 361853.0    ┆ 0       │\n",
       "│ data]   ┆               ┆            ┆        ┆   ┆        ┆        ┆             ┆         │\n",
       "└─────────┴───────────────┴────────────┴────────┴───┴────────┴────────┴─────────────┴─────────┘"
      ]
     },
     "execution_count": 4,
     "metadata": {},
     "output_type": "execute_result"
    }
   ],
   "source": [
    "%%time\n",
    "df_polars_parquet = pl.read_parquet(source='/home/jovyan/work/shared-datasets/nasdaq.parquet')\n",
    "df_polars_parquet.head(5)"
   ]
  },
  {
   "cell_type": "markdown",
   "id": "0846a760-a9dc-45b7-b102-e22cbe6eff65",
   "metadata": {},
   "source": [
    "- Native support for read from Parquet with Polars\n",
    "- timestamps in parquet stored as epochs, requires transformation on read\n",
    "- strings stores as binary, requires casting at UTF-8 on read"
   ]
  },
  {
   "cell_type": "markdown",
   "id": "74e72abb-b13f-4066-bbcb-d73bff1590c1",
   "metadata": {},
   "source": [
    "### ORC File Format"
   ]
  },
  {
   "cell_type": "code",
   "execution_count": 5,
   "id": "4eb69636-f362-498c-89de-f07ea7d51d99",
   "metadata": {},
   "outputs": [
    {
     "name": "stdout",
     "output_type": "stream",
     "text": [
      "CPU times: user 768 ms, sys: 615 ms, total: 1.38 s\n",
      "Wall time: 1.38 s\n"
     ]
    }
   ],
   "source": [
    "%%time\n",
    "pyarrow_orc = orc.read_table('/home/jovyan/work/shared-datasets/nasdaq.orc')"
   ]
  },
  {
   "cell_type": "code",
   "execution_count": 6,
   "id": "e6828f58-bfbb-4428-901e-4288cabab6f1",
   "metadata": {},
   "outputs": [
    {
     "name": "stdout",
     "output_type": "stream",
     "text": [
      "CPU times: user 308 ms, sys: 1.34 s, total: 1.65 s\n",
      "Wall time: 1.64 s\n"
     ]
    },
    {
     "data": {
      "text/html": [
       "<div><style>\n",
       ".dataframe > thead > tr > th,\n",
       ".dataframe > tbody > tr > td {\n",
       "  text-align: right;\n",
       "}\n",
       "</style>\n",
       "<small>shape: (5, 9)</small><table border=\"1\" class=\"dataframe\"><thead><tr><th>ticker</th><th>per</th><th>recordtime</th><th>open</th><th>high</th><th>low</th><th>close</th><th>vol</th><th>openint</th></tr><tr><td>binary</td><td>binary</td><td>datetime[ns]</td><td>f64</td><td>f64</td><td>f64</td><td>f64</td><td>f64</td><td>i64</td></tr></thead><tbody><tr><td>[binary data]</td><td>[binary data]</td><td>2008-01-28 00:00:00</td><td>0.738</td><td>0.738</td><td>0.738</td><td>0.738</td><td>0.0</td><td>0</td></tr><tr><td>[binary data]</td><td>[binary data]</td><td>2008-01-29 00:00:00</td><td>0.738</td><td>0.776</td><td>0.6657</td><td>0.6797</td><td>1.9169939e7</td><td>0</td></tr><tr><td>[binary data]</td><td>[binary data]</td><td>2008-01-30 00:00:00</td><td>0.6797</td><td>0.7108</td><td>0.6448</td><td>0.6603</td><td>2.818723e6</td><td>0</td></tr><tr><td>[binary data]</td><td>[binary data]</td><td>2008-01-31 00:00:00</td><td>0.6595</td><td>0.8001</td><td>0.6595</td><td>0.7418</td><td>2.345961e6</td><td>0</td></tr><tr><td>[binary data]</td><td>[binary data]</td><td>2008-02-01 00:00:00</td><td>0.7714</td><td>0.7721</td><td>0.738</td><td>0.7387</td><td>361853.0</td><td>0</td></tr></tbody></table></div>"
      ],
      "text/plain": [
       "shape: (5, 9)\n",
       "┌─────────┬────────────────┬────────────────┬────────┬───┬────────┬────────┬─────────────┬─────────┐\n",
       "│ ticker  ┆ per            ┆ recordtime     ┆ open   ┆ … ┆ low    ┆ close  ┆ vol         ┆ openint │\n",
       "│ ---     ┆ ---            ┆ ---            ┆ ---    ┆   ┆ ---    ┆ ---    ┆ ---         ┆ ---     │\n",
       "│ binary  ┆ binary         ┆ datetime[ns]   ┆ f64    ┆   ┆ f64    ┆ f64    ┆ f64         ┆ i64     │\n",
       "╞═════════╪════════════════╪════════════════╪════════╪═══╪════════╪════════╪═════════════╪═════════╡\n",
       "│ [binary ┆ [binary data]  ┆ 2008-01-28     ┆ 0.738  ┆ … ┆ 0.738  ┆ 0.738  ┆ 0.0         ┆ 0       │\n",
       "│ data]   ┆                ┆ 00:00:00       ┆        ┆   ┆        ┆        ┆             ┆         │\n",
       "│ [binary ┆ [binary data]  ┆ 2008-01-29     ┆ 0.738  ┆ … ┆ 0.6657 ┆ 0.6797 ┆ 1.9169939e7 ┆ 0       │\n",
       "│ data]   ┆                ┆ 00:00:00       ┆        ┆   ┆        ┆        ┆             ┆         │\n",
       "│ [binary ┆ [binary data]  ┆ 2008-01-30     ┆ 0.6797 ┆ … ┆ 0.6448 ┆ 0.6603 ┆ 2.818723e6  ┆ 0       │\n",
       "│ data]   ┆                ┆ 00:00:00       ┆        ┆   ┆        ┆        ┆             ┆         │\n",
       "│ [binary ┆ [binary data]  ┆ 2008-01-31     ┆ 0.6595 ┆ … ┆ 0.6595 ┆ 0.7418 ┆ 2.345961e6  ┆ 0       │\n",
       "│ data]   ┆                ┆ 00:00:00       ┆        ┆   ┆        ┆        ┆             ┆         │\n",
       "│ [binary ┆ [binary data]  ┆ 2008-02-01     ┆ 0.7714 ┆ … ┆ 0.738  ┆ 0.7387 ┆ 361853.0    ┆ 0       │\n",
       "│ data]   ┆                ┆ 00:00:00       ┆        ┆   ┆        ┆        ┆             ┆         │\n",
       "└─────────┴────────────────┴────────────────┴────────┴───┴────────┴────────┴─────────────┴─────────┘"
      ]
     },
     "execution_count": 6,
     "metadata": {},
     "output_type": "execute_result"
    }
   ],
   "source": [
    "%%time\n",
    "df_polars_orc_via_arrow = pl.from_arrow(pyarrow_orc)\n",
    "df_polars_orc_via_arrow.head(5)"
   ]
  },
  {
   "cell_type": "markdown",
   "id": "3c05f9f2-75b8-4d65-be45-1793cb58b4fb",
   "metadata": {},
   "source": [
    "- No native read from ORC at this time in Polars\n",
    "- Can use PyArrow to read ORC\n",
    "- Timestamps strongly typed as datetime data type (good)\n",
    "- string fields read as binary just like parquet read"
   ]
  },
  {
   "cell_type": "code",
   "execution_count": 7,
   "id": "11ded313-a13f-48bf-99d9-754d24c9d5f4",
   "metadata": {},
   "outputs": [
    {
     "data": {
      "text/plain": [
       "56"
      ]
     },
     "execution_count": 7,
     "metadata": {},
     "output_type": "execute_result"
    }
   ],
   "source": [
    "sys.getsizeof(df_polars_orc_via_arrow)"
   ]
  },
  {
   "cell_type": "markdown",
   "id": "af82ab66-16c6-40fc-89f1-94fbb5fbf02d",
   "metadata": {},
   "source": [
    "#### Use Arrow to type on deserialization\n",
    "- Polars read orc does not allow for schema override on read.\n",
    "- We can fix the string data on read via Arrow as deserialization median.\n",
    "\n",
    "https://arrow.apache.org/docs/python/generated/pyarrow.orc.read_table.html"
   ]
  },
  {
   "cell_type": "code",
   "execution_count": 8,
   "id": "63671193-2ed0-4c8d-b1d5-08ef4bcdf87b",
   "metadata": {},
   "outputs": [
    {
     "data": {
      "text/html": [
       "<div><style>\n",
       ".dataframe > thead > tr > th,\n",
       ".dataframe > tbody > tr > td {\n",
       "  text-align: right;\n",
       "}\n",
       "</style>\n",
       "<small>shape: (5, 9)</small><table border=\"1\" class=\"dataframe\"><thead><tr><th>ticker</th><th>per</th><th>recordtime</th><th>open</th><th>high</th><th>low</th><th>close</th><th>vol</th><th>openint</th></tr><tr><td>str</td><td>str</td><td>datetime[ns]</td><td>f64</td><td>f64</td><td>f64</td><td>f64</td><td>f64</td><td>i64</td></tr></thead><tbody><tr><td>&quot;AACG.US&quot;</td><td>&quot;D&quot;</td><td>2008-01-28 00:00:00</td><td>0.738</td><td>0.738</td><td>0.738</td><td>0.738</td><td>0.0</td><td>0</td></tr><tr><td>&quot;AACG.US&quot;</td><td>&quot;D&quot;</td><td>2008-01-29 00:00:00</td><td>0.738</td><td>0.776</td><td>0.6657</td><td>0.6797</td><td>1.9169939e7</td><td>0</td></tr><tr><td>&quot;AACG.US&quot;</td><td>&quot;D&quot;</td><td>2008-01-30 00:00:00</td><td>0.6797</td><td>0.7108</td><td>0.6448</td><td>0.6603</td><td>2.818723e6</td><td>0</td></tr><tr><td>&quot;AACG.US&quot;</td><td>&quot;D&quot;</td><td>2008-01-31 00:00:00</td><td>0.6595</td><td>0.8001</td><td>0.6595</td><td>0.7418</td><td>2.345961e6</td><td>0</td></tr><tr><td>&quot;AACG.US&quot;</td><td>&quot;D&quot;</td><td>2008-02-01 00:00:00</td><td>0.7714</td><td>0.7721</td><td>0.738</td><td>0.7387</td><td>361853.0</td><td>0</td></tr></tbody></table></div>"
      ],
      "text/plain": [
       "shape: (5, 9)\n",
       "┌─────────┬─────┬─────────────────────┬────────┬───┬────────┬────────┬─────────────┬─────────┐\n",
       "│ ticker  ┆ per ┆ recordtime          ┆ open   ┆ … ┆ low    ┆ close  ┆ vol         ┆ openint │\n",
       "│ ---     ┆ --- ┆ ---                 ┆ ---    ┆   ┆ ---    ┆ ---    ┆ ---         ┆ ---     │\n",
       "│ str     ┆ str ┆ datetime[ns]        ┆ f64    ┆   ┆ f64    ┆ f64    ┆ f64         ┆ i64     │\n",
       "╞═════════╪═════╪═════════════════════╪════════╪═══╪════════╪════════╪═════════════╪═════════╡\n",
       "│ AACG.US ┆ D   ┆ 2008-01-28 00:00:00 ┆ 0.738  ┆ … ┆ 0.738  ┆ 0.738  ┆ 0.0         ┆ 0       │\n",
       "│ AACG.US ┆ D   ┆ 2008-01-29 00:00:00 ┆ 0.738  ┆ … ┆ 0.6657 ┆ 0.6797 ┆ 1.9169939e7 ┆ 0       │\n",
       "│ AACG.US ┆ D   ┆ 2008-01-30 00:00:00 ┆ 0.6797 ┆ … ┆ 0.6448 ┆ 0.6603 ┆ 2.818723e6  ┆ 0       │\n",
       "│ AACG.US ┆ D   ┆ 2008-01-31 00:00:00 ┆ 0.6595 ┆ … ┆ 0.6595 ┆ 0.7418 ┆ 2.345961e6  ┆ 0       │\n",
       "│ AACG.US ┆ D   ┆ 2008-02-01 00:00:00 ┆ 0.7714 ┆ … ┆ 0.738  ┆ 0.7387 ┆ 361853.0    ┆ 0       │\n",
       "└─────────┴─────┴─────────────────────┴────────┴───┴────────┴────────┴─────────────┴─────────┘"
      ]
     },
     "execution_count": 8,
     "metadata": {},
     "output_type": "execute_result"
    }
   ],
   "source": [
    "schema_overrides = {\"ticker\":pl.Utf8, \"per\":pl.Utf8}\n",
    "df_polars_orc_via_arrow_with_overrides = pl.from_arrow(pyarrow_orc, schema_overrides = schema_overrides)\n",
    "df_polars_orc_via_arrow_with_overrides.head(5)"
   ]
  },
  {
   "cell_type": "markdown",
   "id": "87605352-aae8-4540-b3c1-4c6e3b4cdb88",
   "metadata": {},
   "source": [
    "- Using schema overrides we are able to strongly type during deserialization\n",
    "- all fields now strongly typed"
   ]
  },
  {
   "cell_type": "code",
   "execution_count": 9,
   "id": "e13da944-442b-4837-a814-f14821db3474",
   "metadata": {},
   "outputs": [
    {
     "data": {
      "text/plain": [
       "56"
      ]
     },
     "execution_count": 9,
     "metadata": {},
     "output_type": "execute_result"
    }
   ],
   "source": [
    "sys.getsizeof(df_polars_orc_via_arrow_with_overrides)"
   ]
  },
  {
   "cell_type": "markdown",
   "id": "41fb9737-083e-42ca-bce7-ad35bfe2fb20",
   "metadata": {},
   "source": [
    "# Conclusions\n",
    "- Both Parquet and ORC read extremely fast, and consume a fraction of the memory with accessed through Polars\n",
    "- Polars had native support for Parquet, ORC required reading via Arrow\n",
    "- Type conversion can be performed via Arrow to deserialize strings stored as binary on disk\n",
    "- Parquet has limited primitive datatypes\n",
    "- ORC may be better choice if preserving timestamp columns and leveraging Polars predicate push down filter using dates instead of epochs"
   ]
  }
 ],
 "metadata": {
  "kernelspec": {
   "display_name": "Python 3 (ipykernel)",
   "language": "python",
   "name": "python3"
  },
  "language_info": {
   "codemirror_mode": {
    "name": "ipython",
    "version": 3
   },
   "file_extension": ".py",
   "mimetype": "text/x-python",
   "name": "python",
   "nbconvert_exporter": "python",
   "pygments_lexer": "ipython3",
   "version": "3.11.4"
  }
 },
 "nbformat": 4,
 "nbformat_minor": 5
}
