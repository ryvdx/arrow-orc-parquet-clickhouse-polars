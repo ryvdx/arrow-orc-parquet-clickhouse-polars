{
 "cells": [
  {
   "cell_type": "markdown",
   "id": "116b7b7a-41ea-4baa-b50c-5045b59ecb20",
   "metadata": {},
   "source": [
    "# Read with Pandas, Look at Memory, I/O, CPU"
   ]
  },
  {
   "cell_type": "code",
   "execution_count": 1,
   "id": "3ffe6d20-32cb-41ae-b162-b3120e2ff89d",
   "metadata": {},
   "outputs": [],
   "source": [
    "import pandas as pd\n",
    "import sys"
   ]
  },
  {
   "cell_type": "code",
   "execution_count": 2,
   "id": "9b9f1615-0b2a-42bd-b1c6-e0b709387392",
   "metadata": {},
   "outputs": [
    {
     "name": "stdout",
     "output_type": "stream",
     "text": [
      "CPU times: user 13.4 s, sys: 5.46 s, total: 18.9 s\n",
      "Wall time: 19.1 s\n"
     ]
    },
    {
     "data": {
      "text/html": [
       "<div>\n",
       "<style scoped>\n",
       "    .dataframe tbody tr th:only-of-type {\n",
       "        vertical-align: middle;\n",
       "    }\n",
       "\n",
       "    .dataframe tbody tr th {\n",
       "        vertical-align: top;\n",
       "    }\n",
       "\n",
       "    .dataframe thead th {\n",
       "        text-align: right;\n",
       "    }\n",
       "</style>\n",
       "<table border=\"1\" class=\"dataframe\">\n",
       "  <thead>\n",
       "    <tr style=\"text-align: right;\">\n",
       "      <th></th>\n",
       "      <th>ticker</th>\n",
       "      <th>per</th>\n",
       "      <th>recordtime</th>\n",
       "      <th>open</th>\n",
       "      <th>high</th>\n",
       "      <th>low</th>\n",
       "      <th>close</th>\n",
       "      <th>vol</th>\n",
       "      <th>openint</th>\n",
       "    </tr>\n",
       "  </thead>\n",
       "  <tbody>\n",
       "    <tr>\n",
       "      <th>0</th>\n",
       "      <td>b'AACG.US'</td>\n",
       "      <td>b'D'</td>\n",
       "      <td>2008-01-28</td>\n",
       "      <td>0.7380</td>\n",
       "      <td>0.7380</td>\n",
       "      <td>0.7380</td>\n",
       "      <td>0.7380</td>\n",
       "      <td>0.0000</td>\n",
       "      <td>0</td>\n",
       "    </tr>\n",
       "    <tr>\n",
       "      <th>1</th>\n",
       "      <td>b'AACG.US'</td>\n",
       "      <td>b'D'</td>\n",
       "      <td>2008-01-29</td>\n",
       "      <td>0.7380</td>\n",
       "      <td>0.7760</td>\n",
       "      <td>0.6657</td>\n",
       "      <td>0.6797</td>\n",
       "      <td>19169939.0000</td>\n",
       "      <td>0</td>\n",
       "    </tr>\n",
       "    <tr>\n",
       "      <th>2</th>\n",
       "      <td>b'AACG.US'</td>\n",
       "      <td>b'D'</td>\n",
       "      <td>2008-01-30</td>\n",
       "      <td>0.6797</td>\n",
       "      <td>0.7108</td>\n",
       "      <td>0.6448</td>\n",
       "      <td>0.6603</td>\n",
       "      <td>2818723.0000</td>\n",
       "      <td>0</td>\n",
       "    </tr>\n",
       "    <tr>\n",
       "      <th>3</th>\n",
       "      <td>b'AACG.US'</td>\n",
       "      <td>b'D'</td>\n",
       "      <td>2008-01-31</td>\n",
       "      <td>0.6595</td>\n",
       "      <td>0.8001</td>\n",
       "      <td>0.6595</td>\n",
       "      <td>0.7418</td>\n",
       "      <td>2345961.0000</td>\n",
       "      <td>0</td>\n",
       "    </tr>\n",
       "    <tr>\n",
       "      <th>4</th>\n",
       "      <td>b'AACG.US'</td>\n",
       "      <td>b'D'</td>\n",
       "      <td>2008-02-01</td>\n",
       "      <td>0.7714</td>\n",
       "      <td>0.7721</td>\n",
       "      <td>0.7380</td>\n",
       "      <td>0.7387</td>\n",
       "      <td>361853.0000</td>\n",
       "      <td>0</td>\n",
       "    </tr>\n",
       "  </tbody>\n",
       "</table>\n",
       "</div>"
      ],
      "text/plain": [
       "       ticker   per recordtime    open    high     low   close            vol  \\\n",
       "0  b'AACG.US'  b'D' 2008-01-28  0.7380  0.7380  0.7380  0.7380         0.0000   \n",
       "1  b'AACG.US'  b'D' 2008-01-29  0.7380  0.7760  0.6657  0.6797  19169939.0000   \n",
       "2  b'AACG.US'  b'D' 2008-01-30  0.6797  0.7108  0.6448  0.6603   2818723.0000   \n",
       "3  b'AACG.US'  b'D' 2008-01-31  0.6595  0.8001  0.6595  0.7418   2345961.0000   \n",
       "4  b'AACG.US'  b'D' 2008-02-01  0.7714  0.7721  0.7380  0.7387    361853.0000   \n",
       "\n",
       "   openint  \n",
       "0        0  \n",
       "1        0  \n",
       "2        0  \n",
       "3        0  \n",
       "4        0  "
      ]
     },
     "execution_count": 2,
     "metadata": {},
     "output_type": "execute_result"
    }
   ],
   "source": [
    "%%time\n",
    "df_pandas_orc = pd.read_orc('/home/jovyan/work/shared-datasets/nasdaq.orc')\n",
    "df_pandas_orc.head(5)"
   ]
  },
  {
   "cell_type": "code",
   "execution_count": 4,
   "id": "2c7a6b5d-05eb-41de-be6e-6b64dd6f346c",
   "metadata": {},
   "outputs": [
    {
     "data": {
      "text/plain": [
       "5645823604"
      ]
     },
     "execution_count": 4,
     "metadata": {},
     "output_type": "execute_result"
    }
   ],
   "source": [
    "sys.getsizeof(df_pandas_orc)"
   ]
  }
 ],
 "metadata": {
  "kernelspec": {
   "display_name": "Python 3 (ipykernel)",
   "language": "python",
   "name": "python3"
  },
  "language_info": {
   "codemirror_mode": {
    "name": "ipython",
    "version": 3
   },
   "file_extension": ".py",
   "mimetype": "text/x-python",
   "name": "python",
   "nbconvert_exporter": "python",
   "pygments_lexer": "ipython3",
   "version": "3.11.4"
  }
 },
 "nbformat": 4,
 "nbformat_minor": 5
}
