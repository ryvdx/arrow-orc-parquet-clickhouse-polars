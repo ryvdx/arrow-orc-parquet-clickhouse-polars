{
 "cells": [
  {
   "cell_type": "markdown",
   "id": "8617de94-8583-4c74-b2ef-f805a885087b",
   "metadata": {},
   "source": [
    "# Polars as Replacement for Pandas"
   ]
  },
  {
   "cell_type": "code",
   "execution_count": 1,
   "id": "0433313a-7ca3-4ed0-9b16-e23b138e8bab",
   "metadata": {},
   "outputs": [],
   "source": [
    "import sys"
   ]
  },
  {
   "cell_type": "code",
   "execution_count": null,
   "id": "e9b5b963-a035-4fe4-886d-8501cab7cd19",
   "metadata": {},
   "outputs": [],
   "source": [
    "!{sys.executable} -m pip install polars"
   ]
  },
  {
   "cell_type": "code",
   "execution_count": 2,
   "id": "2d2d74bb-e2b1-4f2b-a179-9bfc573eeda4",
   "metadata": {},
   "outputs": [],
   "source": [
    "import pyarrow as pa\n",
    "import pyarrow.parquet as pq\n",
    "import polars as pl\n",
    "from pyarrow import orc"
   ]
  },
  {
   "cell_type": "code",
   "execution_count": 3,
   "id": "9a685560-0a04-4af2-95ea-4f3f1b3ea95b",
   "metadata": {},
   "outputs": [
    {
     "name": "stdout",
     "output_type": "stream",
     "text": [
      "CPU times: user 778 ms, sys: 793 ms, total: 1.57 s\n",
      "Wall time: 1.86 s\n"
     ]
    }
   ],
   "source": [
    "%%time\n",
    "pyarrow_orc = orc.read_table('/home/jovyan/work/shared-datasets/nasdaq.orc')"
   ]
  },
  {
   "cell_type": "code",
   "execution_count": 4,
   "id": "6d73ec92-2bde-4e74-92bf-f32b1e234b09",
   "metadata": {},
   "outputs": [
    {
     "data": {
      "text/plain": [
       "949003186"
      ]
     },
     "execution_count": 4,
     "metadata": {},
     "output_type": "execute_result"
    }
   ],
   "source": [
    "sys.getsizeof(pyarrow_orc)"
   ]
  },
  {
   "cell_type": "code",
   "execution_count": 5,
   "id": "922c9c82-45fa-4f63-9e24-c7290680e3a9",
   "metadata": {},
   "outputs": [
    {
     "data": {
      "text/html": [
       "<div><style>\n",
       ".dataframe > thead > tr > th,\n",
       ".dataframe > tbody > tr > td {\n",
       "  text-align: right;\n",
       "}\n",
       "</style>\n",
       "<small>shape: (5, 9)</small><table border=\"1\" class=\"dataframe\"><thead><tr><th>ticker</th><th>per</th><th>recordtime</th><th>open</th><th>high</th><th>low</th><th>close</th><th>vol</th><th>openint</th></tr><tr><td>binary</td><td>binary</td><td>datetime[ns]</td><td>f64</td><td>f64</td><td>f64</td><td>f64</td><td>f64</td><td>i64</td></tr></thead><tbody><tr><td>[binary data]</td><td>[binary data]</td><td>2008-01-28 00:00:00</td><td>0.738</td><td>0.738</td><td>0.738</td><td>0.738</td><td>0.0</td><td>0</td></tr><tr><td>[binary data]</td><td>[binary data]</td><td>2008-01-29 00:00:00</td><td>0.738</td><td>0.776</td><td>0.6657</td><td>0.6797</td><td>1.9169939e7</td><td>0</td></tr><tr><td>[binary data]</td><td>[binary data]</td><td>2008-01-30 00:00:00</td><td>0.6797</td><td>0.7108</td><td>0.6448</td><td>0.6603</td><td>2.818723e6</td><td>0</td></tr><tr><td>[binary data]</td><td>[binary data]</td><td>2008-01-31 00:00:00</td><td>0.6595</td><td>0.8001</td><td>0.6595</td><td>0.7418</td><td>2.345961e6</td><td>0</td></tr><tr><td>[binary data]</td><td>[binary data]</td><td>2008-02-01 00:00:00</td><td>0.7714</td><td>0.7721</td><td>0.738</td><td>0.7387</td><td>361853.0</td><td>0</td></tr></tbody></table></div>"
      ],
      "text/plain": [
       "shape: (5, 9)\n",
       "┌─────────┬────────────────┬────────────────┬────────┬───┬────────┬────────┬─────────────┬─────────┐\n",
       "│ ticker  ┆ per            ┆ recordtime     ┆ open   ┆ … ┆ low    ┆ close  ┆ vol         ┆ openint │\n",
       "│ ---     ┆ ---            ┆ ---            ┆ ---    ┆   ┆ ---    ┆ ---    ┆ ---         ┆ ---     │\n",
       "│ binary  ┆ binary         ┆ datetime[ns]   ┆ f64    ┆   ┆ f64    ┆ f64    ┆ f64         ┆ i64     │\n",
       "╞═════════╪════════════════╪════════════════╪════════╪═══╪════════╪════════╪═════════════╪═════════╡\n",
       "│ [binary ┆ [binary data]  ┆ 2008-01-28     ┆ 0.738  ┆ … ┆ 0.738  ┆ 0.738  ┆ 0.0         ┆ 0       │\n",
       "│ data]   ┆                ┆ 00:00:00       ┆        ┆   ┆        ┆        ┆             ┆         │\n",
       "│ [binary ┆ [binary data]  ┆ 2008-01-29     ┆ 0.738  ┆ … ┆ 0.6657 ┆ 0.6797 ┆ 1.9169939e7 ┆ 0       │\n",
       "│ data]   ┆                ┆ 00:00:00       ┆        ┆   ┆        ┆        ┆             ┆         │\n",
       "│ [binary ┆ [binary data]  ┆ 2008-01-30     ┆ 0.6797 ┆ … ┆ 0.6448 ┆ 0.6603 ┆ 2.818723e6  ┆ 0       │\n",
       "│ data]   ┆                ┆ 00:00:00       ┆        ┆   ┆        ┆        ┆             ┆         │\n",
       "│ [binary ┆ [binary data]  ┆ 2008-01-31     ┆ 0.6595 ┆ … ┆ 0.6595 ┆ 0.7418 ┆ 2.345961e6  ┆ 0       │\n",
       "│ data]   ┆                ┆ 00:00:00       ┆        ┆   ┆        ┆        ┆             ┆         │\n",
       "│ [binary ┆ [binary data]  ┆ 2008-02-01     ┆ 0.7714 ┆ … ┆ 0.738  ┆ 0.7387 ┆ 361853.0    ┆ 0       │\n",
       "│ data]   ┆                ┆ 00:00:00       ┆        ┆   ┆        ┆        ┆             ┆         │\n",
       "└─────────┴────────────────┴────────────────┴────────┴───┴────────┴────────┴─────────────┴─────────┘"
      ]
     },
     "execution_count": 5,
     "metadata": {},
     "output_type": "execute_result"
    }
   ],
   "source": [
    "df_polars_orc_via_arrow = pl.from_arrow(pyarrow_orc)\n",
    "df_polars_orc_via_arrow.head(5)"
   ]
  },
  {
   "cell_type": "code",
   "execution_count": 6,
   "id": "34a8ab2c-9e79-4d40-84c8-bd0f4bb96f09",
   "metadata": {},
   "outputs": [
    {
     "data": {
      "text/plain": [
       "56"
      ]
     },
     "execution_count": 6,
     "metadata": {},
     "output_type": "execute_result"
    }
   ],
   "source": [
    "sys.getsizeof(df_polars_orc_via_arrow)"
   ]
  },
  {
   "cell_type": "markdown",
   "id": "aa294934-6f31-4c71-8e7d-17db734cbf21",
   "metadata": {},
   "source": [
    "# Conclusion\n",
    "- Use of Arrow to read abd Polars as Data Frame abstraction netted ~400% reduction in Memory and CPU-time.\n",
    "- Big opportunity to reduce operations cost when using things like AWS Lambda if using Pandas by switching to Polars"
   ]
  }
 ],
 "metadata": {
  "kernelspec": {
   "display_name": "Python 3 (ipykernel)",
   "language": "python",
   "name": "python3"
  },
  "language_info": {
   "codemirror_mode": {
    "name": "ipython",
    "version": 3
   },
   "file_extension": ".py",
   "mimetype": "text/x-python",
   "name": "python",
   "nbconvert_exporter": "python",
   "pygments_lexer": "ipython3",
   "version": "3.11.4"
  }
 },
 "nbformat": 4,
 "nbformat_minor": 5
}
